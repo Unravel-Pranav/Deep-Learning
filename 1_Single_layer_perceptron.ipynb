{
  "cells": [
    {
      "cell_type": "markdown",
      "metadata": {
        "id": "view-in-github",
        "colab_type": "text"
      },
      "source": [
        "<a href=\"https://colab.research.google.com/github/Unravel-Pranav/Deep-Learning/blob/main/Single_layer_perceptron.ipynb\" target=\"_parent\"><img src=\"https://colab.research.google.com/assets/colab-badge.svg\" alt=\"Open In Colab\"/></a>"
      ]
    },
    {
      "cell_type": "code",
      "execution_count": 2,
      "metadata": {
        "id": "RNV7uKtnFChz"
      },
      "outputs": [],
      "source": [
        "import tensorflow as tf\n",
        "\n",
        "# Define variables for weight and bias\n",
        "w = tf.Variable([0.2], dtype=tf.float32)  # initial weight\n",
        "b = tf.Variable([-0.2], dtype=tf.float32) # initial bias\n",
        "\n",
        "# Define the input as a variable or constant, depending on your needs\n",
        "x = tf.Variable([1.0], dtype=tf.float32)  # or use `tf.constant([1.0], dtype=tf.float32)`"
      ]
    },
    {
      "cell_type": "code",
      "execution_count": 9,
      "metadata": {
        "id": "evo4S8F0FCh0"
      },
      "outputs": [],
      "source": [
        "@tf.function\n",
        "def linear_model(x):\n",
        "    return w * x + b\n"
      ]
    },
    {
      "cell_type": "code",
      "execution_count": 10,
      "metadata": {
        "colab": {
          "base_uri": "https://localhost:8080/"
        },
        "id": "XmQcQDFuFCh0",
        "outputId": "10a88366-a140-4a2b-9f81-34bef2848e68"
      },
      "outputs": [
        {
          "output_type": "stream",
          "name": "stdout",
          "text": [
            "Predicted output for [1, 2, 3, 4]: [0.         0.2        0.40000004 0.6       ]\n"
          ]
        }
      ],
      "source": [
        "print(\"Predicted output for [1, 2, 3, 4]:\", linear_model(tf.constant([1.0, 2.0, 3.0, 4.0])).numpy())"
      ]
    },
    {
      "cell_type": "code",
      "execution_count": 11,
      "metadata": {
        "id": "fUgcc0B-FCh1"
      },
      "outputs": [],
      "source": [
        "# Define a function to calculate the model output and loss\n",
        "@tf.function\n",
        "def compute_loss(x, y):\n",
        "    # Linear model\n",
        "    linear_model = w * x + b\n",
        "    # Mean Squared Error loss calculation\n",
        "    squared_deltas = tf.square(linear_model - y)\n",
        "    loss = tf.reduce_sum(squared_deltas)\n",
        "    return loss"
      ]
    },
    {
      "cell_type": "code",
      "execution_count": 13,
      "metadata": {
        "scrolled": true,
        "colab": {
          "base_uri": "https://localhost:8080/"
        },
        "id": "c9czjrVSFCh1",
        "outputId": "055b6841-3b46-4416-d819-2ca5b8502337"
      },
      "outputs": [
        {
          "output_type": "stream",
          "name": "stdout",
          "text": [
            "Loss: 20.16\n"
          ]
        }
      ],
      "source": [
        "# Example input and target output\n",
        "x = tf.constant([1.0, 2.0, 3.0, 4.0], dtype=tf.float32)\n",
        "y = tf.constant([0.0, -1.0, -2.0, -3.0], dtype=tf.float32)  # desired output\n",
        "\n",
        "# Compute loss\n",
        "loss_value = compute_loss(x, y)\n",
        "print(\"Loss:\", loss_value.numpy())"
      ]
    },
    {
      "cell_type": "markdown",
      "source": [
        "## Error is 20.16 , Lets update the weights and check error again."
      ],
      "metadata": {
        "id": "ODbZm9mIctGv"
      }
    },
    {
      "cell_type": "code",
      "source": [
        "# Define the optimizer\n",
        "optimizer = tf.optimizers.SGD(learning_rate=0.01)  # 0.01 is the learning rate"
      ],
      "metadata": {
        "id": "gZzlntGceF-j"
      },
      "execution_count": 16,
      "outputs": []
    },
    {
      "cell_type": "code",
      "source": [
        "# Define the training step function\n",
        "def train_step():\n",
        "    with tf.GradientTape() as tape:\n",
        "        # Compute the linear model and loss\n",
        "        linear_model = w * x + b\n",
        "        squared_deltas = tf.square(linear_model - y)\n",
        "        loss = tf.reduce_sum(squared_deltas)  # MSE loss\n",
        "\n",
        "    # Compute gradients and update weights\n",
        "    gradients = tape.gradient(loss, [w, b])\n",
        "    optimizer.apply_gradients(zip(gradients, [w, b]))\n",
        "    return loss"
      ],
      "metadata": {
        "id": "ke2P3Duzcj32"
      },
      "execution_count": 14,
      "outputs": []
    },
    {
      "cell_type": "code",
      "source": [
        "# Training loop\n",
        "for i in range(1000):  # 1000 training epochs\n",
        "    loss_value = train_step()\n",
        "    if i % 100 == 0:  # Print the loss every 100 epochs\n",
        "        print(f\"Epoch {i}: Loss = {loss_value.numpy()}\")"
      ],
      "metadata": {
        "colab": {
          "base_uri": "https://localhost:8080/"
        },
        "id": "RlcEZjjJdoxp",
        "outputId": "823a242c-610e-4bf2-8517-d9d85bc73155"
      },
      "execution_count": 17,
      "outputs": [
        {
          "output_type": "stream",
          "name": "stdout",
          "text": [
            "Epoch 0: Loss = 20.15999984741211\n",
            "Epoch 100: Loss = 0.1247127428650856\n",
            "Epoch 200: Loss = 0.011205842718482018\n",
            "Epoch 300: Loss = 0.0010068798437714577\n",
            "Epoch 400: Loss = 9.04696062207222e-05\n",
            "Epoch 500: Loss = 8.12815960671287e-06\n",
            "Epoch 600: Loss = 7.300958486666786e-07\n",
            "Epoch 700: Loss = 6.571497124241432e-08\n",
            "Epoch 800: Loss = 5.90275206491242e-09\n",
            "Epoch 900: Loss = 5.33532329427544e-10\n"
          ]
        }
      ]
    },
    {
      "cell_type": "code",
      "source": [
        "# Final model parameters\n",
        "print(\"Final weight:\", w.numpy())\n",
        "print(\"Final bias:\", b.numpy())\n",
        "print(\"Final loss:\", loss_value.numpy())"
      ],
      "metadata": {
        "colab": {
          "base_uri": "https://localhost:8080/"
        },
        "id": "rNzf5xNhdy5h",
        "outputId": "3fe6237d-1b45-450a-88a5-f506337017a7"
      },
      "execution_count": 19,
      "outputs": [
        {
          "output_type": "stream",
          "name": "stdout",
          "text": [
            "Final weight: [-0.99999714]\n",
            "Final bias: [0.99999166]\n",
            "Final loss: 4.7108983e-11\n"
          ]
        }
      ]
    },
    {
      "cell_type": "markdown",
      "source": [
        "Prediction check"
      ],
      "metadata": {
        "id": "YKyF_ZXGfltH"
      }
    },
    {
      "cell_type": "code",
      "source": [
        "print(\"Predicted output for [1, 2, 3, 4]:\", linear_model(tf.constant([1.0, 2.0, 3.0, 4.0])).numpy())"
      ],
      "metadata": {
        "colab": {
          "base_uri": "https://localhost:8080/"
        },
        "id": "xu6HhPUefVAe",
        "outputId": "9136252f-3543-4d05-e086-4d6937833968"
      },
      "execution_count": 20,
      "outputs": [
        {
          "output_type": "stream",
          "name": "stdout",
          "text": [
            "Predicted output for [1, 2, 3, 4]: [-5.4836273e-06 -1.0000026e+00 -1.9999998e+00 -2.9999969e+00]\n"
          ]
        }
      ]
    },
    {
      "cell_type": "markdown",
      "source": [
        "Lets check loss this time, As we can see the loss is reduced now.\n",
        "\n",
        "---\n",
        "\n"
      ],
      "metadata": {
        "id": "7Nq4gn0ifrML"
      }
    },
    {
      "cell_type": "markdown",
      "source": [],
      "metadata": {
        "id": "JwAqeCTuf0pr"
      }
    },
    {
      "cell_type": "code",
      "source": [
        "# Example input and target output\n",
        "x = tf.constant([1.0, 2.0, 3.0, 4.0], dtype=tf.float32)\n",
        "y = tf.constant([0.0, -1.0, -2.0, -3.0], dtype=tf.float32)  # desired output\n",
        "\n",
        "# Compute loss\n",
        "loss_value = compute_loss(x, y)\n",
        "print(\"Loss:\", loss_value.numpy())"
      ],
      "metadata": {
        "colab": {
          "base_uri": "https://localhost:8080/"
        },
        "id": "RlYIZxU4f36w",
        "outputId": "bb04831c-772d-4a4c-acac-e70f2c02f258"
      },
      "execution_count": 21,
      "outputs": [
        {
          "output_type": "stream",
          "name": "stdout",
          "text": [
            "Loss: 4.6611603e-11\n"
          ]
        }
      ]
    }
  ],
  "metadata": {
    "kernelspec": {
      "display_name": "Python 3",
      "language": "python",
      "name": "python3"
    },
    "language_info": {
      "codemirror_mode": {
        "name": "ipython",
        "version": 3
      },
      "file_extension": ".py",
      "mimetype": "text/x-python",
      "name": "python",
      "nbconvert_exporter": "python",
      "pygments_lexer": "ipython3",
      "version": "3.7.6"
    },
    "colab": {
      "provenance": [],
      "include_colab_link": true
    }
  },
  "nbformat": 4,
  "nbformat_minor": 0
}
