{
  "cells": [
    {
      "cell_type": "markdown",
      "metadata": {
        "id": "view-in-github",
        "colab_type": "text"
      },
      "source": [
        "<a href=\"https://colab.research.google.com/github/Unravel-Pranav/Deep-Learning/blob/main/bias_implementation.ipynb\" target=\"_parent\"><img src=\"https://colab.research.google.com/assets/colab-badge.svg\" alt=\"Open In Colab\"/></a>"
      ]
    },
    {
      "cell_type": "code",
      "execution_count": 9,
      "metadata": {
        "id": "Zty4uCtHuOr0"
      },
      "outputs": [],
      "source": [
        "import tensorflow as tf\n",
        "\n",
        "# Define variables for weight and bias\n",
        "w = tf.Variable([2.0], dtype=tf.float32)  # initial weight\n",
        "b = tf.Variable([1.0], dtype=tf.float32) # initial bias\n",
        "\n",
        "# Define the input as a variable or constant, depending on your needs\n",
        "x = tf.Variable([1.0], dtype=tf.float32)  # or use `tf.constant([1.0], dtype=tf.float32)`"
      ]
    },
    {
      "cell_type": "code",
      "execution_count": 10,
      "metadata": {
        "id": "QhuTBQ0OuOr4"
      },
      "outputs": [],
      "source": [
        "@tf.function\n",
        "def linear_model(x):\n",
        "    return w * x + b\n"
      ]
    },
    {
      "cell_type": "code",
      "execution_count": 11,
      "metadata": {
        "colab": {
          "base_uri": "https://localhost:8080/"
        },
        "id": "9M1XPBeQuOr8",
        "outputId": "f56de562-4666-4c9a-914f-6486f26ed682"
      },
      "outputs": [
        {
          "output_type": "stream",
          "name": "stdout",
          "text": [
            "predicted output when input is 0\n",
            "Predicted output for input 0: [1.]\n"
          ]
        }
      ],
      "source": [
        "print(\"predicted output when input is 0\")\n",
        "\n",
        "print(\"Predicted output for input 0:\", linear_model(tf.constant([0.0])).numpy())"
      ]
    },
    {
      "cell_type": "code",
      "execution_count": 14,
      "metadata": {
        "colab": {
          "base_uri": "https://localhost:8080/"
        },
        "id": "g866FR0BuOr9",
        "outputId": "03976d0b-df39-4971-b6f7-0b76fe3767c8"
      },
      "outputs": [
        {
          "output_type": "stream",
          "name": "stdout",
          "text": [
            "predicted output when input is 0\n",
            "tf.Tensor([1. 1. 1.], shape=(3,), dtype=float32)\n"
          ]
        }
      ],
      "source": [
        "print(\"predicted output when input is 0\")\n",
        "\n",
        "print(linear_model(tf.constant([0.0,0.0,0.0]))) # output is 1 when input is 0"
      ]
    },
    {
      "cell_type": "code",
      "execution_count": 15,
      "metadata": {
        "colab": {
          "base_uri": "https://localhost:8080/"
        },
        "id": "o0t8QjJcuOr-",
        "outputId": "c9f3318a-9757-48bd-e3cb-a58b291fbb6a"
      },
      "outputs": [
        {
          "output_type": "stream",
          "name": "stdout",
          "text": [
            "tf.Tensor([ 3.  5. 11.], shape=(3,), dtype=float32)\n"
          ]
        }
      ],
      "source": [
        "print(linear_model(tf.constant([1.0,2.0,5.0]))) # output is 1 when input is 0"
      ]
    }
  ],
  "metadata": {
    "kernelspec": {
      "display_name": "Python 3",
      "language": "python",
      "name": "python3"
    },
    "language_info": {
      "codemirror_mode": {
        "name": "ipython",
        "version": 3
      },
      "file_extension": ".py",
      "mimetype": "text/x-python",
      "name": "python",
      "nbconvert_exporter": "python",
      "pygments_lexer": "ipython3",
      "version": "3.7.6"
    },
    "colab": {
      "provenance": [],
      "include_colab_link": true
    }
  },
  "nbformat": 4,
  "nbformat_minor": 0
}
